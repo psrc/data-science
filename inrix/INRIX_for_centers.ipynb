{
 "cells": [
  {
   "cell_type": "code",
   "execution_count": 1,
   "id": "streaming-accessory",
   "metadata": {
    "code_folding": [],
    "hide_input": false
   },
   "outputs": [],
   "source": [
    "import pandas as pd\n",
    "import os\n",
    "import geopandas as gpd\n",
    "import matplotlib.pyplot as plt\n",
    "import contextily as ctx\n",
    "import pyodbc\n",
    "import pymssql\n",
    "import sqlalchemy\n",
    "import holoviews as hv\n",
    "from shapely import wkt\n",
    "import psrcelmerpy\n",
    "import ogr\n",
    "import json\n",
    "from bokeh.io import show\n",
    "from bokeh.models import (CDSView, ColorBar, ColumnDataSource,\n",
    "                          CustomJS, CustomJSFilter, \n",
    "                          GeoJSONDataSource, HoverTool,\n",
    "                          LinearColorMapper, Slider)\n",
    "from bokeh.layouts import column, row, widgetbox\n",
    "from bokeh.palettes import brewer\n",
    "from bokeh.plotting import figure\n",
    "from bokeh.tile_providers import get_provider, Vendors\n",
    "from bokeh.plotting import figure, output_file, show, output_notebook\n",
    "import plotly.graph_objects as go\n",
    "import plotly.express as pex\n",
    "from time import gmtime, strftime"
   ]
  },
  {
   "cell_type": "markdown",
   "id": "ruled-framework",
   "metadata": {
    "hide_input": true
   },
   "source": [
    "# Inrix Origin-Destinations (OD) freight data analysis\n",
    "\n",
    "## About the data\n",
    "\n",
    "Inrix provided us data for May 2015 and May 2019 freight movements. \n",
    "The data includes the following:\n",
    "\n",
    "* **Trips Origin-Destination Information** - includes information about trips such as trips start/end location, start/end time,  origin/destination zone, trip length, etc.\n",
    "\n",
    "* **Trajectory Information** - contains trajectories for all of the trips listed in the trip table.\n",
    "\n",
    "    "
   ]
  },
  {
   "cell_type": "code",
   "execution_count": null,
   "id": "sharing-gathering",
   "metadata": {
    "code_folding": [],
    "hide_input": false
   },
   "outputs": [
    {
     "ename": "",
     "evalue": "",
     "output_type": "error",
     "traceback": [
      "\u001b[1;31mFailed to start the Kernel. \n",
      "\u001b[1;31mUnable to start Kernel 'Anaconda3 (Python 3.9.12)' due to a timeout waiting for the ports to get used. \n",
      "\u001b[1;31mView Jupyter <a href='command:jupyter.viewOutput'>log</a> for further details."
     ]
    }
   ],
   "source": [
    "#load 2019 data\n",
    "data_path = r'\\\\AWS-Model10\\Model Data 2\\INRIX'\n",
    "os.chdir(data_path)"
   ]
  },
  {
   "cell_type": "code",
   "execution_count": null,
   "id": "infinite-boulder",
   "metadata": {
    "hide_input": false
   },
   "outputs": [
    {
     "ename": "",
     "evalue": "",
     "output_type": "error",
     "traceback": [
      "\u001b[1;31mFailed to start the Kernel. \n",
      "\u001b[1;31mUnable to start Kernel 'Anaconda3 (Python 3.9.12)' due to a timeout waiting for the ports to get used. \n",
      "\u001b[1;31mView Jupyter <a href='command:jupyter.viewOutput'>log</a> for further details."
     ]
    }
   ],
   "source": [
    "trips_header = pd.read_csv(os.path.join(r'\\\\AWS-Model10\\Model Data 2\\INRIX\\trip_paths_usa_wa_puget_sound_201905\\date=2020-12-29\\reportId=45749\\v1', 'schema', 'TripBulkReportTripsHeaders.csv'))\n",
    "trips_df = pd.read_csv(os.path.join(r'\\\\AWS-Model10\\Model Data 2\\INRIX\\trip_paths_usa_wa_puget_sound_201905\\date=2020-12-29\\reportId=45749\\v1\\data\\trips\\trips.csv.gz'), \n",
    "                       compression='gzip', names = trips_header.columns)"
   ]
  },
  {
   "cell_type": "markdown",
   "id": "important-replica",
   "metadata": {},
   "source": [
    "**2019 data**  \n",
    "\n",
    "There are about 74,500 unique device IDs - meaning that INRIX data captures 74,500 trucks making 1.2 millions of trips in the PSRC region.  \n",
    "On average, each truck completed about 16 trips in May. Although median is 3 trips. Such a difference between average and median is due to outliers in the data - some trucks did more than 600 trips during May 2019, while 75% of all of the trucks have up to 7 trips.   \n",
    "\n"
   ]
  },
  {
   "cell_type": "code",
   "execution_count": null,
   "id": "popular-romance",
   "metadata": {},
   "outputs": [
    {
     "ename": "",
     "evalue": "",
     "output_type": "error",
     "traceback": [
      "\u001b[1;31mFailed to start the Kernel. \n",
      "\u001b[1;31mUnable to start Kernel 'Anaconda3 (Python 3.9.12)' due to a timeout waiting for the ports to get used. \n",
      "\u001b[1;31mView Jupyter <a href='command:jupyter.viewOutput'>log</a> for further details."
     ]
    }
   ],
   "source": [
    "devices =trips_df.groupby('DeviceId')['DeviceId'].count().reset_index(name='count').sort_values(by=['count'])\n",
    "#devices.describe()"
   ]
  },
  {
   "cell_type": "code",
   "execution_count": null,
   "id": "focal-patient",
   "metadata": {},
   "outputs": [
    {
     "ename": "",
     "evalue": "",
     "output_type": "error",
     "traceback": [
      "\u001b[1;31mFailed to start the Kernel. \n",
      "\u001b[1;31mUnable to start Kernel 'Anaconda3 (Python 3.9.12)' due to a timeout waiting for the ports to get used. \n",
      "\u001b[1;31mView Jupyter <a href='command:jupyter.viewOutput'>log</a> for further details."
     ]
    }
   ],
   "source": [
    "providers =trips_df.groupby('ProviderId')['ProviderId'].count().reset_index(name='count').sort_values(by=['count'])\n",
    "#providers.describe()"
   ]
  },
  {
   "cell_type": "code",
   "execution_count": null,
   "id": "direct-hopkins",
   "metadata": {
    "scrolled": true
   },
   "outputs": [
    {
     "ename": "",
     "evalue": "",
     "output_type": "error",
     "traceback": [
      "\u001b[1;31mFailed to start the Kernel. \n",
      "\u001b[1;31mUnable to start Kernel 'Anaconda3 (Python 3.9.12)' due to a timeout waiting for the ports to get used. \n",
      "\u001b[1;31mView Jupyter <a href='command:jupyter.viewOutput'>log</a> for further details."
     ]
    }
   ],
   "source": [
    "#devices.tail(30)"
   ]
  },
  {
   "cell_type": "code",
   "execution_count": null,
   "id": "phantom-planning",
   "metadata": {},
   "outputs": [
    {
     "ename": "",
     "evalue": "",
     "output_type": "error",
     "traceback": [
      "\u001b[1;31mFailed to start the Kernel. \n",
      "\u001b[1;31mUnable to start Kernel 'Anaconda3 (Python 3.9.12)' due to a timeout waiting for the ports to get used. \n",
      "\u001b[1;31mView Jupyter <a href='command:jupyter.viewOutput'>log</a> for further details."
     ]
    }
   ],
   "source": [
    "device_test = trips_df[trips_df[\"DeviceId\"] == '15bfd6b38a6b00cd53b5f0de44368dc9']"
   ]
  },
  {
   "cell_type": "code",
   "execution_count": null,
   "id": "controlling-curve",
   "metadata": {},
   "outputs": [
    {
     "ename": "",
     "evalue": "",
     "output_type": "error",
     "traceback": [
      "\u001b[1;31mFailed to start the Kernel. \n",
      "\u001b[1;31mUnable to start Kernel 'Anaconda3 (Python 3.9.12)' due to a timeout waiting for the ports to get used. \n",
      "\u001b[1;31mView Jupyter <a href='command:jupyter.viewOutput'>log</a> for further details."
     ]
    }
   ],
   "source": [
    "#device_test"
   ]
  },
  {
   "cell_type": "code",
   "execution_count": null,
   "id": "detailed-service",
   "metadata": {
    "hide_input": false
   },
   "outputs": [
    {
     "ename": "",
     "evalue": "",
     "output_type": "error",
     "traceback": [
      "\u001b[1;31mFailed to start the Kernel. \n",
      "\u001b[1;31mUnable to start Kernel 'Anaconda3 (Python 3.9.12)' due to a timeout waiting for the ports to get used. \n",
      "\u001b[1;31mView Jupyter <a href='command:jupyter.viewOutput'>log</a> for further details."
     ]
    }
   ],
   "source": [
    "trips_header_2015 = pd.read_csv(os.path.join(r'\\\\AWS-Model10\\Model Data 2\\INRIX\\trip_paths_usa_wa_puget_sound_201505\\date=2020-12-29\\reportId=45748\\v1', 'schema', 'TripBulkReportTripsHeaders.csv'))\n",
    "trips_df_2015 = pd.read_csv(os.path.join(r'\\\\AWS-Model10\\Model Data 2\\INRIX\\trip_paths_usa_wa_puget_sound_201505\\date=2020-12-29\\reportId=45748\\v1\\data\\trips\\trips.csv.gz'), \n",
    "                       compression='gzip', names = trips_header_2015.columns)"
   ]
  },
  {
   "cell_type": "raw",
   "id": "alleged-concord",
   "metadata": {},
   "source": []
  },
  {
   "cell_type": "markdown",
   "id": "metallic-possession",
   "metadata": {},
   "source": [
    "**2015 data**  \n",
    "There are about 87,000 unique device IDs.  \n",
    "Similar to the May 2019 data, the average number of trips per truck is greater than median which is indicative of outliers in the data. This means that there are some trucks that make many more trips comparing to the majority of trucks. On average, in May 2015, each truck completed about 13 trips in May. Although median is 4 trips. 75% of all of the trucks completed up to 8 trips.  \n",
    "The maximum number of trips recorded for one device ID is 549 trips."
   ]
  },
  {
   "cell_type": "code",
   "execution_count": null,
   "id": "prime-medicare",
   "metadata": {},
   "outputs": [
    {
     "ename": "",
     "evalue": "",
     "output_type": "error",
     "traceback": [
      "\u001b[1;31mFailed to start the Kernel. \n",
      "\u001b[1;31mUnable to start Kernel 'Anaconda3 (Python 3.9.12)' due to a timeout waiting for the ports to get used. \n",
      "\u001b[1;31mView Jupyter <a href='command:jupyter.viewOutput'>log</a> for further details."
     ]
    }
   ],
   "source": [
    "devices_2015 =trips_df_2015.groupby('DeviceId')['DeviceId'].count().reset_index(name='count').sort_values(by=['count'])\n",
    "#devices_2015.describe()"
   ]
  },
  {
   "cell_type": "code",
   "execution_count": null,
   "id": "mechanical-basics",
   "metadata": {},
   "outputs": [
    {
     "ename": "",
     "evalue": "",
     "output_type": "error",
     "traceback": [
      "\u001b[1;31mFailed to start the Kernel. \n",
      "\u001b[1;31mUnable to start Kernel 'Anaconda3 (Python 3.9.12)' due to a timeout waiting for the ports to get used. \n",
      "\u001b[1;31mView Jupyter <a href='command:jupyter.viewOutput'>log</a> for further details."
     ]
    }
   ],
   "source": [
    "providers_2015 =trips_df_2015.groupby('ProviderId')['ProviderId'].count().reset_index(name='count').sort_values(by=['count'])\n",
    "#providers_2015.describe()"
   ]
  },
  {
   "cell_type": "markdown",
   "id": "composed-friday",
   "metadata": {
    "hide_input": true
   },
   "source": [
    "In total, there were 1,242,924 trips recorded in 2019 data and 1,179,583 trips in 2015 data"
   ]
  },
  {
   "cell_type": "code",
   "execution_count": null,
   "id": "flying-prediction",
   "metadata": {
    "hide_input": false
   },
   "outputs": [
    {
     "ename": "",
     "evalue": "",
     "output_type": "error",
     "traceback": [
      "\u001b[1;31mFailed to start the Kernel. \n",
      "\u001b[1;31mUnable to start Kernel 'Anaconda3 (Python 3.9.12)' due to a timeout waiting for the ports to get used. \n",
      "\u001b[1;31mView Jupyter <a href='command:jupyter.viewOutput'>log</a> for further details."
     ]
    }
   ],
   "source": [
    "#number of trips recroded in 2019\n",
    "#len(pd.unique(trips_df['TripId'])) "
   ]
  },
  {
   "cell_type": "code",
   "execution_count": null,
   "id": "registered-beaver",
   "metadata": {
    "hide_input": false
   },
   "outputs": [
    {
     "ename": "",
     "evalue": "",
     "output_type": "error",
     "traceback": [
      "\u001b[1;31mFailed to start the Kernel. \n",
      "\u001b[1;31mUnable to start Kernel 'Anaconda3 (Python 3.9.12)' due to a timeout waiting for the ports to get used. \n",
      "\u001b[1;31mView Jupyter <a href='command:jupyter.viewOutput'>log</a> for further details."
     ]
    }
   ],
   "source": [
    "#number of trips recroded in 2015\n",
    "#len(pd.unique(trips_df_2015['TripId'])) "
   ]
  },
  {
   "cell_type": "markdown",
   "id": "direct-background",
   "metadata": {
    "hide_input": true
   },
   "source": [
    "**Vehicle types in the dataset**   \n",
    "\n",
    "Inrix data includes medium trucks/vans (ranges from 14001–26000 lb) and heavy trucks (> 26000 lb) in both 2015 and 2019.\n",
    "    \n",
    "In 2019, there were 1,013,601 made by medium trucks and 229,334 trips by heavy trucks.\n",
    "\n",
    "In 2015, there were 841,373 made by medium trucks and 338,223 trips by heavy trucks."
   ]
  },
  {
   "cell_type": "code",
   "execution_count": null,
   "id": "abstract-sailing",
   "metadata": {
    "hide_input": false
   },
   "outputs": [
    {
     "ename": "",
     "evalue": "",
     "output_type": "error",
     "traceback": [
      "\u001b[1;31mFailed to start the Kernel. \n",
      "\u001b[1;31mUnable to start Kernel 'Anaconda3 (Python 3.9.12)' due to a timeout waiting for the ports to get used. \n",
      "\u001b[1;31mView Jupyter <a href='command:jupyter.viewOutput'>log</a> for further details."
     ]
    }
   ],
   "source": [
    "#trips by vehicle class in 2019\n",
    "#trips_df.groupby('VehicleWeightClass').size()"
   ]
  },
  {
   "cell_type": "code",
   "execution_count": null,
   "id": "economic-boutique",
   "metadata": {},
   "outputs": [
    {
     "ename": "",
     "evalue": "",
     "output_type": "error",
     "traceback": [
      "\u001b[1;31mFailed to start the Kernel. \n",
      "\u001b[1;31mUnable to start Kernel 'Anaconda3 (Python 3.9.12)' due to a timeout waiting for the ports to get used. \n",
      "\u001b[1;31mView Jupyter <a href='command:jupyter.viewOutput'>log</a> for further details."
     ]
    }
   ],
   "source": [
    "#trips_df.groupby('VehicleWeightClass').DeviceId.nunique()"
   ]
  },
  {
   "cell_type": "code",
   "execution_count": null,
   "id": "starting-violence",
   "metadata": {
    "hide_input": false
   },
   "outputs": [
    {
     "ename": "",
     "evalue": "",
     "output_type": "error",
     "traceback": [
      "\u001b[1;31mFailed to start the Kernel. \n",
      "\u001b[1;31mUnable to start Kernel 'Anaconda3 (Python 3.9.12)' due to a timeout waiting for the ports to get used. \n",
      "\u001b[1;31mView Jupyter <a href='command:jupyter.viewOutput'>log</a> for further details."
     ]
    }
   ],
   "source": [
    "#trips by vehicle class in 2015\n",
    "#trips_df_2015.groupby('VehicleWeightClass').size()"
   ]
  },
  {
   "cell_type": "code",
   "execution_count": null,
   "id": "political-pressure",
   "metadata": {},
   "outputs": [
    {
     "ename": "",
     "evalue": "",
     "output_type": "error",
     "traceback": [
      "\u001b[1;31mFailed to start the Kernel. \n",
      "\u001b[1;31mUnable to start Kernel 'Anaconda3 (Python 3.9.12)' due to a timeout waiting for the ports to get used. \n",
      "\u001b[1;31mView Jupyter <a href='command:jupyter.viewOutput'>log</a> for further details."
     ]
    }
   ],
   "source": [
    "#trips_df_2015.groupby('VehicleWeightClass').DeviceId.nunique()"
   ]
  },
  {
   "cell_type": "markdown",
   "id": "valid-pacific",
   "metadata": {
    "hide_input": true
   },
   "source": [
    "**Dates covered**  \n",
    "\n",
    "Data covers the following dates in 2019:   \n",
    "May 1st - 31st 2019   \n",
    "Number of trips during an average weekday ~47-55k   \n",
    "Number of trips during an average weekend ~9-18k   \n",
    "\n",
    "\n",
    "in 2015:   \n",
    "May 1st - 31st 2015   \n",
    "Number of trips during an average weekday ~41-69k   \n",
    "Number of trips during an average weekend ~11-24k\n"
   ]
  },
  {
   "cell_type": "code",
   "execution_count": null,
   "id": "immediate-element",
   "metadata": {},
   "outputs": [
    {
     "ename": "",
     "evalue": "",
     "output_type": "error",
     "traceback": [
      "\u001b[1;31mFailed to start the Kernel. \n",
      "\u001b[1;31mUnable to start Kernel 'Anaconda3 (Python 3.9.12)' due to a timeout waiting for the ports to get used. \n",
      "\u001b[1;31mView Jupyter <a href='command:jupyter.viewOutput'>log</a> for further details."
     ]
    }
   ],
   "source": [
    "trips_df['StartDate_upd'] = (pd.to_datetime(trips_df['StartDate'])\n",
    "                     .dt.tz_convert('America/Los_Angeles'))  "
   ]
  },
  {
   "cell_type": "code",
   "execution_count": null,
   "id": "strong-cloud",
   "metadata": {},
   "outputs": [
    {
     "ename": "",
     "evalue": "",
     "output_type": "error",
     "traceback": [
      "\u001b[1;31mFailed to start the Kernel. \n",
      "\u001b[1;31mUnable to start Kernel 'Anaconda3 (Python 3.9.12)' due to a timeout waiting for the ports to get used. \n",
      "\u001b[1;31mView Jupyter <a href='command:jupyter.viewOutput'>log</a> for further details."
     ]
    }
   ],
   "source": [
    "#trips_df['StartDate_upd'] = pd.to_datetime(trips_df[\"StartDate\"])\n",
    "trips_df[\"StartDate_dmy\"] = trips_df[\"StartDate_upd\"].apply(lambda x: x.strftime('%d%m%Y'))\n",
    "trips_df[\"StartTime_h\"] = trips_df[\"StartDate_upd\"].apply(lambda x: x.strftime('%H'))\n",
    "\n",
    "trips_df['EndDate_upd'] = pd.to_datetime(trips_df[\"EndDate\"])\n",
    "trips_df[\"EndDate_dmy\"] = trips_df[\"EndDate_upd\"].apply(lambda x: x.strftime('%d%m%Y'))\n",
    "trips_df[\"EndTime_h\"] = trips_df[\"EndDate_upd\"].apply(lambda x: x.strftime('%H'))\n",
    "\n",
    "trips_df_2015['StartDate_upd'] = pd.to_datetime(trips_df_2015[\"StartDate\"])\n",
    "trips_df_2015[\"StartDate_dmy\"] = trips_df_2015[\"StartDate_upd\"].apply(lambda x: x.strftime('%d%m%Y'))\n",
    "trips_df_2015[\"StartTime_h\"] = trips_df_2015[\"StartDate_upd\"].apply(lambda x: x.strftime('%H'))"
   ]
  },
  {
   "cell_type": "code",
   "execution_count": null,
   "id": "outer-carnival",
   "metadata": {},
   "outputs": [
    {
     "ename": "",
     "evalue": "",
     "output_type": "error",
     "traceback": [
      "\u001b[1;31mFailed to start the Kernel. \n",
      "\u001b[1;31mUnable to start Kernel 'Anaconda3 (Python 3.9.12)' due to a timeout waiting for the ports to get used. \n",
      "\u001b[1;31mView Jupyter <a href='command:jupyter.viewOutput'>log</a> for further details."
     ]
    }
   ],
   "source": [
    "trips_df[\"StartDOW\"] = trips_df[\"StartDate_upd\"].apply(lambda x: x.strftime('%A'))\n",
    "trips_df[\"EndDOW\"] = trips_df[\"EndDate_upd\"].apply(lambda x: x.strftime('%A'))\n",
    "trips_df_2015[\"StartDOW\"] = trips_df_2015[\"StartDate_upd\"].apply(lambda x: x.strftime('%A'))\n"
   ]
  },
  {
   "cell_type": "code",
   "execution_count": null,
   "id": "overall-motivation",
   "metadata": {},
   "outputs": [
    {
     "ename": "",
     "evalue": "",
     "output_type": "error",
     "traceback": [
      "\u001b[1;31mFailed to start the Kernel. \n",
      "\u001b[1;31mUnable to start Kernel 'Anaconda3 (Python 3.9.12)' due to a timeout waiting for the ports to get used. \n",
      "\u001b[1;31mView Jupyter <a href='command:jupyter.viewOutput'>log</a> for further details."
     ]
    }
   ],
   "source": [
    "#weekday trips only\n",
    "weekdays = [\"Monday\", \"Tuesday\",\"Wednesday\",\"Thursday\",\"Friday\"]\n",
    "trips_df_weekdays = trips_df[trips_df.StartDOW.isin(weekdays)]\n",
    "end_trips_df_weekdays = trips_df[trips_df.EndDOW.isin(weekdays)]\n",
    "trips_df_2015_weekdays = trips_df_2015[trips_df_2015.StartDOW.isin(weekdays)]\n"
   ]
  },
  {
   "cell_type": "code",
   "execution_count": null,
   "id": "activated-astronomy",
   "metadata": {},
   "outputs": [
    {
     "ename": "",
     "evalue": "",
     "output_type": "error",
     "traceback": [
      "\u001b[1;31mFailed to start the Kernel. \n",
      "\u001b[1;31mUnable to start Kernel 'Anaconda3 (Python 3.9.12)' due to a timeout waiting for the ports to get used. \n",
      "\u001b[1;31mView Jupyter <a href='command:jupyter.viewOutput'>log</a> for further details."
     ]
    }
   ],
   "source": [
    "#separating heavy and medium trucks\n",
    "trips_df_heavy = trips_df_weekdays[trips_df_weekdays['VehicleWeightClass']==3]\n",
    "trips_df_medium = trips_df_weekdays[trips_df_weekdays['VehicleWeightClass']==2]"
   ]
  },
  {
   "cell_type": "code",
   "execution_count": null,
   "id": "continuous-scoop",
   "metadata": {},
   "outputs": [
    {
     "ename": "",
     "evalue": "",
     "output_type": "error",
     "traceback": [
      "\u001b[1;31mFailed to start the Kernel. \n",
      "\u001b[1;31mUnable to start Kernel 'Anaconda3 (Python 3.9.12)' due to a timeout waiting for the ports to get used. \n",
      "\u001b[1;31mView Jupyter <a href='command:jupyter.viewOutput'>log</a> for further details."
     ]
    }
   ],
   "source": [
    "trips_df_heavy_2015 = trips_df_2015[trips_df_2015['VehicleWeightClass']==3]\n",
    "trips_df_medium_2015 = trips_df_2015[trips_df_2015['VehicleWeightClass']==2]"
   ]
  },
  {
   "cell_type": "code",
   "execution_count": null,
   "id": "royal-cabin",
   "metadata": {},
   "outputs": [
    {
     "ename": "",
     "evalue": "",
     "output_type": "error",
     "traceback": [
      "\u001b[1;31mFailed to start the Kernel. \n",
      "\u001b[1;31mUnable to start Kernel 'Anaconda3 (Python 3.9.12)' due to a timeout waiting for the ports to get used. \n",
      "\u001b[1;31mView Jupyter <a href='command:jupyter.viewOutput'>log</a> for further details."
     ]
    }
   ],
   "source": [
    "end_trips_df_heavy = end_trips_df_weekdays[end_trips_df_weekdays['VehicleWeightClass']==3]\n",
    "end_trips_df_medium = end_trips_df_weekdays[end_trips_df_weekdays['VehicleWeightClass']==2]"
   ]
  },
  {
   "cell_type": "markdown",
   "id": "willing-texture",
   "metadata": {},
   "source": [
    "**Trips by type of truck and time of day during a weekday**"
   ]
  },
  {
   "cell_type": "code",
   "execution_count": null,
   "id": "administrative-kenya",
   "metadata": {},
   "outputs": [
    {
     "ename": "",
     "evalue": "",
     "output_type": "error",
     "traceback": [
      "\u001b[1;31mFailed to start the Kernel. \n",
      "\u001b[1;31mUnable to start Kernel 'Anaconda3 (Python 3.9.12)' due to a timeout waiting for the ports to get used. \n",
      "\u001b[1;31mView Jupyter <a href='command:jupyter.viewOutput'>log</a> for further details."
     ]
    }
   ],
   "source": [
    "m_trips_hour = trips_df_medium.groupby(['StartDOW','StartTime_h',\"StartDate_dmy\"]).size().reset_index(name='count')\n",
    "m_trips_hour_agg = m_trips_hour.groupby(['StartDOW','StartTime_h']).mean().reset_index()\n",
    "\n",
    "end_m_trips_hour = end_trips_df_medium.groupby(['EndDOW','EndTime_h',\"StartDate_dmy\"]).size().reset_index(name='count')\n",
    "end_m_trips_hour_agg = end_m_trips_hour.groupby(['EndDOW','EndTime_h']).mean().reset_index()"
   ]
  },
  {
   "cell_type": "markdown",
   "id": "focused-boundary",
   "metadata": {},
   "source": [
    "**Medium Trucks Volume by day of week and hour of the day**   \n",
    "\n",
    "In May 2019, medium truck volumes are higher Tuesday, Wednesday, and Thursday. Medium truck volumes are lower during Monday and Friday. The reason that an average Mondays' volumes are lower during May 2019 is due to Memorial Day.\n",
    "\n",
    "On average, all weekdays have two pronounced AM and noon peaks: one at 7 AM and another one at 11 AM-12 PM."
   ]
  },
  {
   "cell_type": "code",
   "execution_count": null,
   "id": "strategic-campaign",
   "metadata": {},
   "outputs": [
    {
     "ename": "",
     "evalue": "",
     "output_type": "error",
     "traceback": [
      "\u001b[1;31mFailed to start the Kernel. \n",
      "\u001b[1;31mUnable to start Kernel 'Anaconda3 (Python 3.9.12)' due to a timeout waiting for the ports to get used. \n",
      "\u001b[1;31mView Jupyter <a href='command:jupyter.viewOutput'>log</a> for further details."
     ]
    }
   ],
   "source": [
    "output_notebook()\n",
    "p = figure(title=\"Medium Trucks Volume by Hour\", x_axis_label='Time', y_axis_label='Number of Trips')\n",
    "\n",
    "p.line(x='StartTime_h', y='count', source = m_trips_hour_agg[m_trips_hour_agg['StartDOW'] == 'Monday'],  \n",
    "       legend_label=\"Monday\", line_width=2)\n",
    "p.line(x='StartTime_h', y='count', source = m_trips_hour_agg[m_trips_hour_agg['StartDOW'] == 'Tuesday'],  \n",
    "       legend_label=\"Tuesday\", line_width=2,line_color='#d95f02')\n",
    "p.line(x='StartTime_h', y='count', source = m_trips_hour_agg[m_trips_hour_agg['StartDOW'] == 'Wednesday'],  \n",
    "       legend_label=\"Wednesday\", line_width=2,line_color='#7570b3')\n",
    "p.line(x='StartTime_h', y='count', source = m_trips_hour_agg[m_trips_hour_agg['StartDOW'] == 'Thursday'],  \n",
    "       legend_label=\"Thursday\", line_width=2,line_color='#e7298a')\n",
    "p.line(x='StartTime_h', y='count', source = m_trips_hour_agg[m_trips_hour_agg['StartDOW'] == 'Friday'],  \n",
    "       legend_label=\"Friday\", line_width=2,line_color='#1b9e77')\n",
    "\n",
    "hover = HoverTool()\n",
    "hover.tooltips=[\n",
    "    ('Average Trips', '@count'),\n",
    "    ('Time', '@StartTime_h'),\n",
    "    ('Day of Week', '@StartDOW')\n",
    "]\n",
    "\n",
    "p.add_tools(hover)\n",
    "p.legend.location = \"top_left\"\n",
    "show(p)"
   ]
  },
  {
   "cell_type": "code",
   "execution_count": null,
   "id": "sufficient-process",
   "metadata": {},
   "outputs": [
    {
     "ename": "",
     "evalue": "",
     "output_type": "error",
     "traceback": [
      "\u001b[1;31mFailed to start the Kernel. \n",
      "\u001b[1;31mUnable to start Kernel 'Anaconda3 (Python 3.9.12)' due to a timeout waiting for the ports to get used. \n",
      "\u001b[1;31mView Jupyter <a href='command:jupyter.viewOutput'>log</a> for further details."
     ]
    }
   ],
   "source": [
    "h_trips_hour = trips_df_heavy.groupby(['StartDOW','StartTime_h',\"StartDate_dmy\"]).size().reset_index(name='count')\n",
    "h_trips_hour_agg = h_trips_hour.groupby(['StartDOW','StartTime_h']).mean().reset_index()\n",
    "\n",
    "end_h_trips_hour = end_trips_df_heavy.groupby(['EndDOW','EndTime_h',\"EndDate_dmy\"]).size().reset_index(name='count')\n",
    "end_h_trips_hour_agg = end_h_trips_hour.groupby(['EndDOW','EndTime_h']).mean().reset_index()"
   ]
  },
  {
   "cell_type": "markdown",
   "id": "noted-style",
   "metadata": {},
   "source": [
    "**Heavy Trucks Volume by day of week and hour of the day**   \n",
    "\n",
    "In May 2019, heavy truck volumes are the highest during Tuesday, Wednesday, and Thursday. Medium truck volumes are slightly lower during Monday and Friday. Sumular to medium trucks volume, Mondays' volumes might be lower due to the Memorial Day.\n",
    "\n",
    "Similar to the medium trucks volume, heavy trucks volume has two pronounced peaks: one at 10 AM (which is more spread out) and another one at 4 PM."
   ]
  },
  {
   "cell_type": "code",
   "execution_count": null,
   "id": "controlling-entity",
   "metadata": {},
   "outputs": [
    {
     "ename": "",
     "evalue": "",
     "output_type": "error",
     "traceback": [
      "\u001b[1;31mFailed to start the Kernel. \n",
      "\u001b[1;31mUnable to start Kernel 'Anaconda3 (Python 3.9.12)' due to a timeout waiting for the ports to get used. \n",
      "\u001b[1;31mView Jupyter <a href='command:jupyter.viewOutput'>log</a> for further details."
     ]
    }
   ],
   "source": [
    "output_notebook()\n",
    "p = figure(title=\"Heavy Trucks Volume by Hour\", x_axis_label='Time', y_axis_label='Number of Trips')\n",
    "\n",
    "p.line(x='StartTime_h', y='count', source = h_trips_hour_agg[h_trips_hour_agg['StartDOW'] == 'Monday'],  \n",
    "       legend_label=\"Monday\", line_width=2)\n",
    "p.line(x='StartTime_h', y='count', source = h_trips_hour_agg[h_trips_hour_agg['StartDOW'] == 'Tuesday'],  \n",
    "       legend_label=\"Tuesday\", line_width=2,line_color='#d95f02')\n",
    "p.line(x='StartTime_h', y='count', source = h_trips_hour_agg[h_trips_hour_agg['StartDOW'] == 'Wednesday'],  \n",
    "       legend_label=\"Wednesday\", line_width=2,line_color='#7570b3')\n",
    "p.line(x='StartTime_h', y='count', source = h_trips_hour_agg[h_trips_hour_agg['StartDOW'] == 'Thursday'],  \n",
    "       legend_label=\"Thursday\", line_width=2,line_color='#e7298a')\n",
    "p.line(x='StartTime_h', y='count', source = h_trips_hour_agg[h_trips_hour_agg['StartDOW'] == 'Friday'],  \n",
    "       legend_label=\"Friday\", line_width=2,line_color='#1b9e77')\n",
    "\n",
    "hover = HoverTool()\n",
    "hover.tooltips=[\n",
    "    ('Average Trips', '@count'),\n",
    "    ('Time', '@StartTime_h'),\n",
    "    ('Day of Week', '@StartDOW')\n",
    "]\n",
    "\n",
    "p.add_tools(hover)\n",
    "p.legend.location = \"top_left\"\n",
    "show(p)"
   ]
  },
  {
   "cell_type": "code",
   "execution_count": null,
   "id": "descending-compiler",
   "metadata": {},
   "outputs": [
    {
     "ename": "",
     "evalue": "",
     "output_type": "error",
     "traceback": [
      "\u001b[1;31mFailed to start the Kernel. \n",
      "\u001b[1;31mUnable to start Kernel 'Anaconda3 (Python 3.9.12)' due to a timeout waiting for the ports to get used. \n",
      "\u001b[1;31mView Jupyter <a href='command:jupyter.viewOutput'>log</a> for further details."
     ]
    }
   ],
   "source": [
    "h_trips_hour = trips_df_heavy.groupby(['StartDOW','StartTime_h',\"StartDate_dmy\"]).size().reset_index(name='count')\n",
    "h_trips_hour_agg = h_trips_hour.groupby(['StartDOW','StartTime_h']).mean().reset_index()"
   ]
  },
  {
   "cell_type": "code",
   "execution_count": null,
   "id": "convinced-coordination",
   "metadata": {},
   "outputs": [
    {
     "ename": "",
     "evalue": "",
     "output_type": "error",
     "traceback": [
      "\u001b[1;31mFailed to start the Kernel. \n",
      "\u001b[1;31mUnable to start Kernel 'Anaconda3 (Python 3.9.12)' due to a timeout waiting for the ports to get used. \n",
      "\u001b[1;31mView Jupyter <a href='command:jupyter.viewOutput'>log</a> for further details."
     ]
    }
   ],
   "source": [
    "h_trips_hour_2015 = trips_df_heavy_2015.groupby(['StartDOW','StartTime_h',\"StartDate_dmy\"]).size().reset_index(name='count')\n",
    "h_trips_hour_agg_2015 = h_trips_hour_2015.groupby(['StartDOW','StartTime_h']).mean().reset_index()"
   ]
  },
  {
   "cell_type": "code",
   "execution_count": null,
   "id": "obvious-maryland",
   "metadata": {},
   "outputs": [
    {
     "ename": "",
     "evalue": "",
     "output_type": "error",
     "traceback": [
      "\u001b[1;31mFailed to start the Kernel. \n",
      "\u001b[1;31mUnable to start Kernel 'Anaconda3 (Python 3.9.12)' due to a timeout waiting for the ports to get used. \n",
      "\u001b[1;31mView Jupyter <a href='command:jupyter.viewOutput'>log</a> for further details."
     ]
    }
   ],
   "source": [
    "df_test = trips_df_weekdays.groupby([\"StartDate_dmy\",\"StartDOW\"]).size()\n",
    "df_test_2015 = trips_df_2015_weekdays.groupby([\"StartDate_dmy\",\"StartDOW\"]).size()"
   ]
  },
  {
   "cell_type": "code",
   "execution_count": null,
   "id": "adjusted-sword",
   "metadata": {},
   "outputs": [
    {
     "ename": "",
     "evalue": "",
     "output_type": "error",
     "traceback": [
      "\u001b[1;31mFailed to start the Kernel. \n",
      "\u001b[1;31mUnable to start Kernel 'Anaconda3 (Python 3.9.12)' due to a timeout waiting for the ports to get used. \n",
      "\u001b[1;31mView Jupyter <a href='command:jupyter.viewOutput'>log</a> for further details."
     ]
    }
   ],
   "source": [
    "df_test = pd.DataFrame(df_test)\n",
    "df_test_2015 = pd.DataFrame(df_test_2015)\n"
   ]
  },
  {
   "cell_type": "markdown",
   "id": "tropical-clearing",
   "metadata": {},
   "source": [
    "## Spatial Analysis"
   ]
  },
  {
   "cell_type": "markdown",
   "id": "literary-peeing",
   "metadata": {},
   "source": [
    "In this section, we have grouped the truck trips by different geographies, including:\n",
    "\n",
    "Census Tracts   \n",
    "Urban Centers   \n",
    "Traffic Analysis Zones   "
   ]
  },
  {
   "cell_type": "code",
   "execution_count": null,
   "id": "federal-northwest",
   "metadata": {},
   "outputs": [
    {
     "ename": "",
     "evalue": "",
     "output_type": "error",
     "traceback": [
      "\u001b[1;31mFailed to start the Kernel. \n",
      "\u001b[1;31mUnable to start Kernel 'Anaconda3 (Python 3.9.12)' due to a timeout waiting for the ports to get used. \n",
      "\u001b[1;31mView Jupyter <a href='command:jupyter.viewOutput'>log</a> for further details."
     ]
    }
   ],
   "source": [
    "import psrcelmerpy\n",
    "conn = psrcelmerpy.ElmerGeoConn()\n",
    "tracts = conn.read_geolayer(layer_name='tract2010')"
   ]
  },
  {
   "cell_type": "code",
   "execution_count": null,
   "id": "skilled-venice",
   "metadata": {},
   "outputs": [
    {
     "ename": "",
     "evalue": "",
     "output_type": "error",
     "traceback": [
      "\u001b[1;31mFailed to start the Kernel. \n",
      "\u001b[1;31mUnable to start Kernel 'Anaconda3 (Python 3.9.12)' due to a timeout waiting for the ports to get used. \n",
      "\u001b[1;31mView Jupyter <a href='command:jupyter.viewOutput'>log</a> for further details."
     ]
    }
   ],
   "source": [
    "\n",
    "urban_centers = conn.read_geolayer(layer_name='urban_centers')"
   ]
  },
  {
   "cell_type": "code",
   "execution_count": null,
   "id": "numerical-dance",
   "metadata": {},
   "outputs": [
    {
     "ename": "",
     "evalue": "",
     "output_type": "error",
     "traceback": [
      "\u001b[1;31mFailed to start the Kernel. \n",
      "\u001b[1;31mUnable to start Kernel 'Anaconda3 (Python 3.9.12)' due to a timeout waiting for the ports to get used. \n",
      "\u001b[1;31mView Jupyter <a href='command:jupyter.viewOutput'>log</a> for further details."
     ]
    }
   ],
   "source": [
    "\n",
    "taz = conn.read_geolayer(layer_name='taz2010')"
   ]
  },
  {
   "cell_type": "code",
   "execution_count": null,
   "id": "aging-intention",
   "metadata": {},
   "outputs": [
    {
     "ename": "",
     "evalue": "",
     "output_type": "error",
     "traceback": [
      "\u001b[1;31mFailed to start the Kernel. \n",
      "\u001b[1;31mUnable to start Kernel 'Anaconda3 (Python 3.9.12)' due to a timeout waiting for the ports to get used. \n",
      "\u001b[1;31mView Jupyter <a href='command:jupyter.viewOutput'>log</a> for further details."
     ]
    }
   ],
   "source": [
    "\n",
    "mic = conn.read_geolayer(layer_name='micen')"
   ]
  },
  {
   "cell_type": "code",
   "execution_count": null,
   "id": "together-undergraduate",
   "metadata": {},
   "outputs": [
    {
     "ename": "",
     "evalue": "",
     "output_type": "error",
     "traceback": [
      "\u001b[1;31mFailed to start the Kernel. \n",
      "\u001b[1;31mUnable to start Kernel 'Anaconda3 (Python 3.9.12)' due to a timeout waiting for the ports to get used. \n",
      "\u001b[1;31mView Jupyter <a href='command:jupyter.viewOutput'>log</a> for further details."
     ]
    }
   ],
   "source": [
    "\n",
    "safety_rest_area=conn.read_geolayer(layer_name='safety_rest_area')"
   ]
  },
  {
   "cell_type": "code",
   "execution_count": null,
   "id": "southern-morning",
   "metadata": {},
   "outputs": [
    {
     "ename": "",
     "evalue": "",
     "output_type": "error",
     "traceback": [
      "\u001b[1;31mFailed to start the Kernel. \n",
      "\u001b[1;31mUnable to start Kernel 'Anaconda3 (Python 3.9.12)' due to a timeout waiting for the ports to get used. \n",
      "\u001b[1;31mView Jupyter <a href='command:jupyter.viewOutput'>log</a> for further details."
     ]
    }
   ],
   "source": [
    "\n",
    "private_truck_stop = conn.read_geolayer(layer_name='private_truck_stop')"
   ]
  },
  {
   "cell_type": "code",
   "execution_count": null,
   "id": "reserved-commodity",
   "metadata": {},
   "outputs": [
    {
     "ename": "",
     "evalue": "",
     "output_type": "error",
     "traceback": [
      "\u001b[1;31mFailed to start the Kernel. \n",
      "\u001b[1;31mUnable to start Kernel 'Anaconda3 (Python 3.9.12)' due to a timeout waiting for the ports to get used. \n",
      "\u001b[1;31mView Jupyter <a href='command:jupyter.viewOutput'>log</a> for further details."
     ]
    }
   ],
   "source": [
    "trips_d = gpd.GeoDataFrame(\n",
    "    trips_df, geometry=gpd.points_from_xy(trips_df.EndLocLon, trips_df.EndLocLat))\n",
    "trips_d.crs = \"EPSG:4326\"\n",
    "\n",
    "trips_d_2015 = gpd.GeoDataFrame(\n",
    "    trips_df_2015, geometry=gpd.points_from_xy(trips_df_2015.EndLocLon, trips_df_2015.EndLocLat))\n",
    "trips_d_2015.crs = \"EPSG:4326\"\n",
    "total_d=len(trips_d)\n",
    "total_d_2015=len(trips_d_2015)"
   ]
  },
  {
   "cell_type": "code",
   "execution_count": null,
   "id": "seven-montgomery",
   "metadata": {},
   "outputs": [
    {
     "ename": "",
     "evalue": "",
     "output_type": "error",
     "traceback": [
      "\u001b[1;31mFailed to start the Kernel. \n",
      "\u001b[1;31mUnable to start Kernel 'Anaconda3 (Python 3.9.12)' due to a timeout waiting for the ports to get used. \n",
      "\u001b[1;31mView Jupyter <a href='command:jupyter.viewOutput'>log</a> for further details."
     ]
    }
   ],
   "source": [
    "#creating geo data frame for trips destinations during weekdays only\n",
    "trips_d_weekdays = gpd.GeoDataFrame(\n",
    "    trips_df_weekdays, geometry=gpd.points_from_xy(trips_df_weekdays.EndLocLon, trips_df_weekdays.EndLocLat))\n",
    "trips_d_weekdays.crs = \"EPSG:4326\"\n",
    "\n",
    "trips_d_2015_weekdays = gpd.GeoDataFrame(\n",
    "    trips_df_2015_weekdays, geometry=gpd.points_from_xy(trips_df_2015_weekdays.EndLocLon, trips_df_2015_weekdays.EndLocLat))\n",
    "trips_d_2015_weekdays.crs = \"EPSG:4326\"\n"
   ]
  },
  {
   "cell_type": "code",
   "execution_count": null,
   "id": "spatial-cruise",
   "metadata": {},
   "outputs": [
    {
     "ename": "",
     "evalue": "",
     "output_type": "error",
     "traceback": [
      "\u001b[1;31mFailed to start the Kernel. \n",
      "\u001b[1;31mUnable to start Kernel 'Anaconda3 (Python 3.9.12)' due to a timeout waiting for the ports to get used. \n",
      "\u001b[1;31mView Jupyter <a href='command:jupyter.viewOutput'>log</a> for further details."
     ]
    }
   ],
   "source": [
    "trips_o = gpd.GeoDataFrame(\n",
    "    trips_df, geometry=gpd.points_from_xy(trips_df.StartLocLon, trips_df.StartLocLat))\n",
    "trips_o.crs = \"EPSG:4326\"\n",
    "\n",
    "trips_o_2015 = gpd.GeoDataFrame(\n",
    "    trips_df_2015, geometry=gpd.points_from_xy(trips_df_2015.StartLocLon, trips_df_2015.StartLocLat))\n",
    "trips_o_2015.crs = \"EPSG:4326\""
   ]
  },
  {
   "cell_type": "code",
   "execution_count": null,
   "id": "amended-conducting",
   "metadata": {},
   "outputs": [
    {
     "ename": "",
     "evalue": "",
     "output_type": "error",
     "traceback": [
      "\u001b[1;31mFailed to start the Kernel. \n",
      "\u001b[1;31mUnable to start Kernel 'Anaconda3 (Python 3.9.12)' due to a timeout waiting for the ports to get used. \n",
      "\u001b[1;31mView Jupyter <a href='command:jupyter.viewOutput'>log</a> for further details."
     ]
    }
   ],
   "source": [
    "tracts = tracts.to_crs(epsg=4326)\n",
    "urban_centers = urban_centers.to_crs(epsg=4326)\n",
    "taz = taz.to_crs(epsg=4326)\n",
    "mic = mic.to_crs(epsg=4326)\n",
    "safety_rest_area = safety_rest_area.to_crs(epsg=4326)\n",
    "private_truck_stop = private_truck_stop.to_crs(epsg=4326)"
   ]
  },
  {
   "cell_type": "code",
   "execution_count": null,
   "id": "d00ced7c",
   "metadata": {},
   "outputs": [
    {
     "ename": "",
     "evalue": "",
     "output_type": "error",
     "traceback": [
      "\u001b[1;31mFailed to start the Kernel. \n",
      "\u001b[1;31mUnable to start Kernel 'Anaconda3 (Python 3.9.12)' due to a timeout waiting for the ports to get used. \n",
      "\u001b[1;31mView Jupyter <a href='command:jupyter.viewOutput'>log</a> for further details."
     ]
    }
   ],
   "source": [
    "hex_map= gpd.read_file('Y:/Centers Monitoring/Systems Monitoring/2024/Data/1_3_Population/New File Geodatabase.gdb', layer='hex_grid_4mile_region')"
   ]
  },
  {
   "cell_type": "code",
   "execution_count": null,
   "id": "31f27476",
   "metadata": {},
   "outputs": [
    {
     "ename": "",
     "evalue": "",
     "output_type": "error",
     "traceback": [
      "\u001b[1;31mFailed to start the Kernel. \n",
      "\u001b[1;31mUnable to start Kernel 'Anaconda3 (Python 3.9.12)' due to a timeout waiting for the ports to get used. \n",
      "\u001b[1;31mView Jupyter <a href='command:jupyter.viewOutput'>log</a> for further details."
     ]
    }
   ],
   "source": [
    "hex_map=hex_map.to_crs(epsg=4326)"
   ]
  },
  {
   "cell_type": "code",
   "execution_count": null,
   "id": "c5f952f0",
   "metadata": {},
   "outputs": [
    {
     "ename": "",
     "evalue": "",
     "output_type": "error",
     "traceback": [
      "\u001b[1;31mFailed to start the Kernel. \n",
      "\u001b[1;31mUnable to start Kernel 'Anaconda3 (Python 3.9.12)' due to a timeout waiting for the ports to get used. \n",
      "\u001b[1;31mView Jupyter <a href='command:jupyter.viewOutput'>log</a> for further details."
     ]
    }
   ],
   "source": [
    "hex_d = gpd.sjoin(hex_map, trips_d, how='inner', op='intersects')"
   ]
  },
  {
   "cell_type": "code",
   "execution_count": null,
   "id": "prescription-decline",
   "metadata": {},
   "outputs": [
    {
     "ename": "",
     "evalue": "",
     "output_type": "error",
     "traceback": [
      "\u001b[1;31mFailed to start the Kernel. \n",
      "\u001b[1;31mUnable to start Kernel 'Anaconda3 (Python 3.9.12)' due to a timeout waiting for the ports to get used. \n",
      "\u001b[1;31mView Jupyter <a href='command:jupyter.viewOutput'>log</a> for further details."
     ]
    }
   ],
   "source": [
    "taz = taz.to_crs(epsg=4326)"
   ]
  },
  {
   "cell_type": "code",
   "execution_count": null,
   "id": "religious-worcester",
   "metadata": {},
   "outputs": [
    {
     "ename": "",
     "evalue": "",
     "output_type": "error",
     "traceback": [
      "\u001b[1;31mFailed to start the Kernel. \n",
      "\u001b[1;31mUnable to start Kernel 'Anaconda3 (Python 3.9.12)' due to a timeout waiting for the ports to get used. \n",
      "\u001b[1;31mView Jupyter <a href='command:jupyter.viewOutput'>log</a> for further details."
     ]
    }
   ],
   "source": [
    "tract_trips_o = gpd.sjoin(tracts, trips_o, how='inner', op='intersects')\n",
    "tract_trips_d = gpd.sjoin(tracts, trips_d, how='inner', op='intersects')\n",
    "\n",
    "tract_trips_o_2015 = gpd.sjoin(tracts, trips_o_2015, how='inner', op='intersects')\n",
    "tract_trips_d_2015 = gpd.sjoin(tracts, trips_d_2015, how='inner', op='intersects')"
   ]
  },
  {
   "cell_type": "code",
   "execution_count": null,
   "id": "signed-chambers",
   "metadata": {},
   "outputs": [
    {
     "ename": "",
     "evalue": "",
     "output_type": "error",
     "traceback": [
      "\u001b[1;31mFailed to start the Kernel. \n",
      "\u001b[1;31mUnable to start Kernel 'Anaconda3 (Python 3.9.12)' due to a timeout waiting for the ports to get used. \n",
      "\u001b[1;31mView Jupyter <a href='command:jupyter.viewOutput'>log</a> for further details."
     ]
    }
   ],
   "source": [
    "uc_trips_o = gpd.sjoin(urban_centers, trips_o, how='inner', op='intersects')\n",
    "uc_trips_d = gpd.sjoin(urban_centers, trips_d, how='inner', op='intersects')"
   ]
  },
  {
   "cell_type": "code",
   "execution_count": null,
   "id": "hungarian-termination",
   "metadata": {},
   "outputs": [
    {
     "ename": "",
     "evalue": "",
     "output_type": "error",
     "traceback": [
      "\u001b[1;31mFailed to start the Kernel. \n",
      "\u001b[1;31mUnable to start Kernel 'Anaconda3 (Python 3.9.12)' due to a timeout waiting for the ports to get used. \n",
      "\u001b[1;31mView Jupyter <a href='command:jupyter.viewOutput'>log</a> for further details."
     ]
    }
   ],
   "source": [
    "uc_trips_o_2015 = gpd.sjoin(urban_centers, trips_o_2015, how='inner', op='intersects')\n",
    "uc_trips_d_2015 = gpd.sjoin(urban_centers, trips_d_2015, how='inner', op='intersects')"
   ]
  },
  {
   "cell_type": "code",
   "execution_count": null,
   "id": "greatest-essex",
   "metadata": {},
   "outputs": [
    {
     "ename": "",
     "evalue": "",
     "output_type": "error",
     "traceback": [
      "\u001b[1;31mFailed to start the Kernel. \n",
      "\u001b[1;31mUnable to start Kernel 'Anaconda3 (Python 3.9.12)' due to a timeout waiting for the ports to get used. \n",
      "\u001b[1;31mView Jupyter <a href='command:jupyter.viewOutput'>log</a> for further details."
     ]
    }
   ],
   "source": [
    "mic_trips_o = gpd.sjoin(mic, trips_o, how='inner', op='intersects')\n",
    "mic_trips_d = gpd.sjoin(mic, trips_d, how='inner', op='intersects')"
   ]
  },
  {
   "cell_type": "code",
   "execution_count": null,
   "id": "together-angola",
   "metadata": {},
   "outputs": [
    {
     "ename": "",
     "evalue": "",
     "output_type": "error",
     "traceback": [
      "\u001b[1;31mFailed to start the Kernel. \n",
      "\u001b[1;31mUnable to start Kernel 'Anaconda3 (Python 3.9.12)' due to a timeout waiting for the ports to get used. \n",
      "\u001b[1;31mView Jupyter <a href='command:jupyter.viewOutput'>log</a> for further details."
     ]
    }
   ],
   "source": [
    "mic_trips_o_2015 = gpd.sjoin(mic, trips_o_2015, how='inner', op='intersects')\n",
    "mic_trips_d_2015 = gpd.sjoin(mic, trips_d_2015, how='inner', op='intersects')"
   ]
  },
  {
   "cell_type": "code",
   "execution_count": null,
   "id": "roman-equilibrium",
   "metadata": {},
   "outputs": [
    {
     "ename": "",
     "evalue": "",
     "output_type": "error",
     "traceback": [
      "\u001b[1;31mFailed to start the Kernel. \n",
      "\u001b[1;31mUnable to start Kernel 'Anaconda3 (Python 3.9.12)' due to a timeout waiting for the ports to get used. \n",
      "\u001b[1;31mView Jupyter <a href='command:jupyter.viewOutput'>log</a> for further details."
     ]
    }
   ],
   "source": [
    "taz_trips_o = gpd.sjoin(taz, trips_o, how='inner', op='intersects')\n",
    "taz_trips_d = gpd.sjoin(taz, trips_d, how='inner', op='intersects')"
   ]
  },
  {
   "cell_type": "code",
   "execution_count": null,
   "id": "contemporary-heather",
   "metadata": {},
   "outputs": [
    {
     "ename": "",
     "evalue": "",
     "output_type": "error",
     "traceback": [
      "\u001b[1;31mFailed to start the Kernel. \n",
      "\u001b[1;31mUnable to start Kernel 'Anaconda3 (Python 3.9.12)' due to a timeout waiting for the ports to get used. \n",
      "\u001b[1;31mView Jupyter <a href='command:jupyter.viewOutput'>log</a> for further details."
     ]
    }
   ],
   "source": [
    "test3 = tracts.groupby('geoid10')['geoid10'].count().reset_index(name='count').sort_values(by=['count'])"
   ]
  },
  {
   "cell_type": "code",
   "execution_count": null,
   "id": "latest-measurement",
   "metadata": {},
   "outputs": [
    {
     "ename": "",
     "evalue": "",
     "output_type": "error",
     "traceback": [
      "\u001b[1;31mFailed to start the Kernel. \n",
      "\u001b[1;31mUnable to start Kernel 'Anaconda3 (Python 3.9.12)' due to a timeout waiting for the ports to get used. \n",
      "\u001b[1;31mView Jupyter <a href='command:jupyter.viewOutput'>log</a> for further details."
     ]
    }
   ],
   "source": [
    "taz_trips_d_weekdays = gpd.sjoin(taz, trips_d_weekdays, how='inner', op='intersects')"
   ]
  },
  {
   "cell_type": "code",
   "execution_count": null,
   "id": "monetary-mortgage",
   "metadata": {},
   "outputs": [
    {
     "ename": "",
     "evalue": "",
     "output_type": "error",
     "traceback": [
      "\u001b[1;31mFailed to start the Kernel. \n",
      "\u001b[1;31mUnable to start Kernel 'Anaconda3 (Python 3.9.12)' due to a timeout waiting for the ports to get used. \n",
      "\u001b[1;31mView Jupyter <a href='command:jupyter.viewOutput'>log</a> for further details."
     ]
    }
   ],
   "source": [
    "tract_trips_o=tract_trips_o.groupby('geoid10')['geoid10'].count().reset_index(name='count').sort_values(by=['count'])\n",
    "tract_trips_d=tract_trips_d.groupby('geoid10')['geoid10'].count().reset_index(name='count').sort_values(by=['count'])"
   ]
  },
  {
   "cell_type": "code",
   "execution_count": null,
   "id": "0925d101",
   "metadata": {},
   "outputs": [
    {
     "ename": "",
     "evalue": "",
     "output_type": "error",
     "traceback": [
      "\u001b[1;31mFailed to start the Kernel. \n",
      "\u001b[1;31mUnable to start Kernel 'Anaconda3 (Python 3.9.12)' due to a timeout waiting for the ports to get used. \n",
      "\u001b[1;31mView Jupyter <a href='command:jupyter.viewOutput'>log</a> for further details."
     ]
    }
   ],
   "source": [
    "hex_d.columns"
   ]
  },
  {
   "cell_type": "code",
   "execution_count": null,
   "id": "2a11a626",
   "metadata": {},
   "outputs": [
    {
     "ename": "",
     "evalue": "",
     "output_type": "error",
     "traceback": [
      "\u001b[1;31mFailed to start the Kernel. \n",
      "\u001b[1;31mUnable to start Kernel 'Anaconda3 (Python 3.9.12)' due to a timeout waiting for the ports to get used. \n",
      "\u001b[1;31mView Jupyter <a href='command:jupyter.viewOutput'>log</a> for further details."
     ]
    }
   ],
   "source": [
    "hex_trips_d=hex_d.groupby('GRID_ID')['GRID_ID'].count().reset_index(name='count').sort_values(by=['count'])"
   ]
  },
  {
   "cell_type": "code",
   "execution_count": null,
   "id": "wooden-version",
   "metadata": {},
   "outputs": [
    {
     "ename": "",
     "evalue": "",
     "output_type": "error",
     "traceback": [
      "\u001b[1;31mFailed to start the Kernel. \n",
      "\u001b[1;31mUnable to start Kernel 'Anaconda3 (Python 3.9.12)' due to a timeout waiting for the ports to get used. \n",
      "\u001b[1;31mView Jupyter <a href='command:jupyter.viewOutput'>log</a> for further details."
     ]
    }
   ],
   "source": [
    "tract_trips_o_2015=tract_trips_o_2015.groupby('geoid10')['geoid10'].count().reset_index(name='count').sort_values(by=['count'])\n",
    "tract_trips_d_2015=tract_trips_d_2015.groupby('geoid10')['geoid10'].count().reset_index(name='count').sort_values(by=['count'])"
   ]
  },
  {
   "cell_type": "code",
   "execution_count": null,
   "id": "incorporated-advancement",
   "metadata": {},
   "outputs": [
    {
     "ename": "",
     "evalue": "",
     "output_type": "error",
     "traceback": [
      "\u001b[1;31mFailed to start the Kernel. \n",
      "\u001b[1;31mUnable to start Kernel 'Anaconda3 (Python 3.9.12)' due to a timeout waiting for the ports to get used. \n",
      "\u001b[1;31mView Jupyter <a href='command:jupyter.viewOutput'>log</a> for further details."
     ]
    }
   ],
   "source": [
    "uc_trips_o=uc_trips_o.groupby('name')['name'].count().reset_index(name='count').sort_values(by=['count'])\n",
    "uc_trips_d=uc_trips_d.groupby('name')['name'].count().reset_index(name='count').sort_values(by=['count'])"
   ]
  },
  {
   "cell_type": "code",
   "execution_count": null,
   "id": "2cd49e44",
   "metadata": {},
   "outputs": [
    {
     "ename": "",
     "evalue": "",
     "output_type": "error",
     "traceback": [
      "\u001b[1;31mFailed to start the Kernel. \n",
      "\u001b[1;31mUnable to start Kernel 'Anaconda3 (Python 3.9.12)' due to a timeout waiting for the ports to get used. \n",
      "\u001b[1;31mView Jupyter <a href='command:jupyter.viewOutput'>log</a> for further details."
     ]
    }
   ],
   "source": [
    "mic.columns\n",
    "mic_trips_d.columns\n",
    "uc_trips_d.columns\n",
    "urban_centers.columns"
   ]
  },
  {
   "cell_type": "code",
   "execution_count": null,
   "id": "killing-whale",
   "metadata": {},
   "outputs": [
    {
     "ename": "",
     "evalue": "",
     "output_type": "error",
     "traceback": [
      "\u001b[1;31mFailed to start the Kernel. \n",
      "\u001b[1;31mUnable to start Kernel 'Anaconda3 (Python 3.9.12)' due to a timeout waiting for the ports to get used. \n",
      "\u001b[1;31mView Jupyter <a href='command:jupyter.viewOutput'>log</a> for further details."
     ]
    }
   ],
   "source": [
    "uc_trips_o_2015=uc_trips_o_2015.groupby('name')['name'].count().reset_index(name='count').sort_values(by=['count'])\n",
    "uc_trips_d_2015=uc_trips_d_2015.groupby('name')['name'].count().reset_index(name='count').sort_values(by=['count'])"
   ]
  },
  {
   "cell_type": "code",
   "execution_count": null,
   "id": "reasonable-issue",
   "metadata": {},
   "outputs": [
    {
     "ename": "",
     "evalue": "",
     "output_type": "error",
     "traceback": [
      "\u001b[1;31mFailed to start the Kernel. \n",
      "\u001b[1;31mUnable to start Kernel 'Anaconda3 (Python 3.9.12)' due to a timeout waiting for the ports to get used. \n",
      "\u001b[1;31mView Jupyter <a href='command:jupyter.viewOutput'>log</a> for further details."
     ]
    }
   ],
   "source": [
    "mic_trips_o=mic_trips_o.groupby('mic')['mic'].count().reset_index(name='count').sort_values(by=['count'])\n",
    "mic_trips_d=mic_trips_d.groupby('mic')['mic'].count().reset_index(name='count').sort_values(by=['count'])"
   ]
  },
  {
   "cell_type": "code",
   "execution_count": null,
   "id": "virgin-publisher",
   "metadata": {},
   "outputs": [
    {
     "ename": "",
     "evalue": "",
     "output_type": "error",
     "traceback": [
      "\u001b[1;31mFailed to start the Kernel. \n",
      "\u001b[1;31mUnable to start Kernel 'Anaconda3 (Python 3.9.12)' due to a timeout waiting for the ports to get used. \n",
      "\u001b[1;31mView Jupyter <a href='command:jupyter.viewOutput'>log</a> for further details."
     ]
    }
   ],
   "source": [
    "mic_trips_o_2015=mic_trips_o_2015.groupby('mic')['mic'].count().reset_index(name='count').sort_values(by=['count'])\n",
    "mic_trips_d_2015=mic_trips_d_2015.groupby('mic')['mic'].count().reset_index(name='count').sort_values(by=['count'])"
   ]
  },
  {
   "cell_type": "code",
   "execution_count": null,
   "id": "psychological-cleaner",
   "metadata": {},
   "outputs": [
    {
     "ename": "",
     "evalue": "",
     "output_type": "error",
     "traceback": [
      "\u001b[1;31mFailed to start the Kernel. \n",
      "\u001b[1;31mUnable to start Kernel 'Anaconda3 (Python 3.9.12)' due to a timeout waiting for the ports to get used. \n",
      "\u001b[1;31mView Jupyter <a href='command:jupyter.viewOutput'>log</a> for further details."
     ]
    }
   ],
   "source": [
    "taz_trips_o=taz_trips_o.groupby('taz')['taz'].count().reset_index(name='count').sort_values(by=['count'])\n",
    "taz_trips_d=taz_trips_d.groupby('taz')['taz'].count().reset_index(name='count').sort_values(by=['count'])"
   ]
  },
  {
   "cell_type": "code",
   "execution_count": null,
   "id": "invisible-approval",
   "metadata": {},
   "outputs": [
    {
     "ename": "",
     "evalue": "",
     "output_type": "error",
     "traceback": [
      "\u001b[1;31mFailed to start the Kernel. \n",
      "\u001b[1;31mUnable to start Kernel 'Anaconda3 (Python 3.9.12)' due to a timeout waiting for the ports to get used. \n",
      "\u001b[1;31mView Jupyter <a href='command:jupyter.viewOutput'>log</a> for further details."
     ]
    }
   ],
   "source": [
    "taz_trips_d_weekday=taz_trips_d_weekdays.groupby('taz')['taz'].count().reset_index(name='count').sort_values(by=['count'])\n",
    "taz_trips_d_weekday[\"trips_per_weekday\"] = taz_trips_d_weekday[\"count\"]/23.0"
   ]
  },
  {
   "cell_type": "markdown",
   "id": "received-bridal",
   "metadata": {},
   "source": [
    "### Urban Centers\n",
    "\n",
    "When comparing Freight Volumes between Urban Centers in PSRC region, Seattle Downtown stands out with about 22,000 trip destinations and origins.\n",
    "\n",
    "Redmond-Overlake (187 %), Everett (92 %), and Tukwila (63 %) saw the biggest increase in freight trip destinations between 2015 and 2019 data. "
   ]
  },
  {
   "cell_type": "code",
   "execution_count": null,
   "id": "tropical-princess",
   "metadata": {},
   "outputs": [
    {
     "ename": "",
     "evalue": "",
     "output_type": "error",
     "traceback": [
      "\u001b[1;31mFailed to start the Kernel. \n",
      "\u001b[1;31mUnable to start Kernel 'Anaconda3 (Python 3.9.12)' due to a timeout waiting for the ports to get used. \n",
      "\u001b[1;31mView Jupyter <a href='command:jupyter.viewOutput'>log</a> for further details."
     ]
    }
   ],
   "source": [
    "uc_trips_change = pd.merge(uc_trips_d_2015,uc_trips_d,  how=\"outer\", on=[\"name\"])\n",
    "uc_trips_change =uc_trips_change.rename(columns={\"name\": \"UC Name\", \"count_y\": \"2019 Freight Destinations\",\n",
    "                                \"count_x\": \"2015 Freight Destinations\"})\n",
    "uc_trips_change['delta,%'] = (uc_trips_change['2019 Freight Destinations']-uc_trips_change['2015 Freight Destinations'])*1.0/uc_trips_change['2015 Freight Destinations']\n",
    "uc_trips_change.sort_values(by='delta,%', ascending=False)\n",
    "uc_trips_change_acres=pd.merge(uc_trips_change, urban_centers, left_on='UC Name', right_on=\"name\" )\n",
    "uc_trips_change_acres['2019 Freight Destinations per Acre']=uc_trips_change_acres['2019 Freight Destinations']/uc_trips_change_acres['area']\n",
    "uc_trips_change_acres[[\"UC Name\", \"2019 Freight Destinations\", '2019 Freight Destinations per Acre']]"
   ]
  },
  {
   "cell_type": "markdown",
   "id": "integral-motion",
   "metadata": {},
   "source": [
    "### Manufacturing Industrial Centers"
   ]
  },
  {
   "cell_type": "markdown",
   "id": "single-coalition",
   "metadata": {},
   "source": [
    "The majority of Manufacturing Industrial Centers saw a freight growth between 2015 and 2019 freight trips data.\n",
    "\n",
    "Duwamish and Kent MIC saw the biggest volume of freight destinations in both 2015 and 2019."
   ]
  },
  {
   "cell_type": "code",
   "execution_count": null,
   "id": "indirect-throat",
   "metadata": {},
   "outputs": [
    {
     "ename": "",
     "evalue": "",
     "output_type": "error",
     "traceback": [
      "\u001b[1;31mFailed to start the Kernel. \n",
      "\u001b[1;31mUnable to start Kernel 'Anaconda3 (Python 3.9.12)' due to a timeout waiting for the ports to get used. \n",
      "\u001b[1;31mView Jupyter <a href='command:jupyter.viewOutput'>log</a> for further details."
     ]
    }
   ],
   "source": [
    "mic_trips_change = pd.merge(mic_trips_d_2015,mic_trips_d,  how=\"outer\", on=[\"mic\"])\n",
    "mic_trips_change =mic_trips_change.rename(columns={\"mic\": \"MIC Name\", \"count_y\": \"2019 Freight Destinations\",\n",
    "                                \"count_x\": \"2015 Freight Destinations\"})\n",
    "mic_trips_change['delta,%'] = (mic_trips_change['2019 Freight Destinations']-mic_trips_change['2015 Freight Destinations'])*1.0/mic_trips_change['2015 Freight Destinations']\n",
    "mic_trips_sum_2015=mic_trips_change[\"2015 Freight Destinations\"].sum()\n",
    "mic_trips_sum_2019=mic_trips_change[\"2019 Freight Destinations\"].sum()\n",
    "mic_delta=(mic_trips_sum_2019-mic_trips_sum_2015)/mic_trips_sum_2015\n",
    "total_delta=(total_d-total_d_2015)/total_d\n",
    "regional_trips_change=pd.DataFrame([['All Regional', total_d_2015, total_d,total_delta]], columns=['MIC Name', '2015 Freight Destinations', '2019 Freight Destinations', 'delta,%'])\n",
    "all_mic_trips_change=pd.DataFrame([['All MICs', mic_trips_sum_2015, mic_trips_sum_2019,mic_delta]], columns=['MIC Name', '2015 Freight Destinations', '2019 Freight Destinations', 'delta,%'])\n",
    "mic_all_trips_change=pd.concat([mic_trips_change, all_mic_trips_change, regional_trips_change])\n",
    "mic_all_trips_change['2015 Share']= mic_all_trips_change['2015 Freight Destinations']/total_d_2015\n",
    "mic_all_trips_change['2019 Share']= mic_all_trips_change['2019 Freight Destinations']/total_d\n",
    "mic_all_trips_change.sort_values(by='delta,%', ascending=False)\n",
    "mic_all_trips_change.to_csv('C:/GitHub/data-science/inrix/mic_trips_2015_2019.csv')"
   ]
  },
  {
   "cell_type": "code",
   "execution_count": null,
   "id": "b8b81237",
   "metadata": {},
   "outputs": [
    {
     "ename": "",
     "evalue": "",
     "output_type": "error",
     "traceback": [
      "\u001b[1;31mFailed to start the Kernel. \n",
      "\u001b[1;31mUnable to start Kernel 'Anaconda3 (Python 3.9.12)' due to a timeout waiting for the ports to get used. \n",
      "\u001b[1;31mView Jupyter <a href='command:jupyter.viewOutput'>log</a> for further details."
     ]
    }
   ],
   "source": [
    "mic['mic'].unique"
   ]
  },
  {
   "cell_type": "code",
   "execution_count": null,
   "id": "bridal-triangle",
   "metadata": {},
   "outputs": [
    {
     "ename": "",
     "evalue": "",
     "output_type": "error",
     "traceback": [
      "\u001b[1;31mFailed to start the Kernel. \n",
      "\u001b[1;31mUnable to start Kernel 'Anaconda3 (Python 3.9.12)' due to a timeout waiting for the ports to get used. \n",
      "\u001b[1;31mView Jupyter <a href='command:jupyter.viewOutput'>log</a> for further details."
     ]
    }
   ],
   "source": [
    "mic_trips_change_acres=pd.merge(mic_all_trips_change, mic, left_on='MIC Name', right_on=\"mic\" )\n",
    "\n",
    "mic_trips_change_acres['2019 Dest per Acre']=mic_trips_change_acres['2019 Freight Destinations']/mic_trips_change_acres['acres']\n",
    "mic_trips_change_acres['2015 Dest per Acre']=mic_trips_change_acres['2015 Freight Destinations']/mic_trips_change_acres['acres']\n",
    "total_acres_region=tracts['land_acres'].sum()\n",
    "total_acres_mics=mic_trips_change_acres['acres'].sum()\n",
    "\n",
    "total_acres_region\n",
    "total_acres_mics"
   ]
  },
  {
   "cell_type": "code",
   "execution_count": null,
   "id": "bb4a0314",
   "metadata": {},
   "outputs": [
    {
     "ename": "",
     "evalue": "",
     "output_type": "error",
     "traceback": [
      "\u001b[1;31mFailed to start the Kernel. \n",
      "\u001b[1;31mUnable to start Kernel 'Anaconda3 (Python 3.9.12)' due to a timeout waiting for the ports to get used. \n",
      "\u001b[1;31mView Jupyter <a href='command:jupyter.viewOutput'>log</a> for further details."
     ]
    }
   ],
   "source": [
    "mic_trips_cols=mic_trips_change_acres[[\"MIC Name\", \"2015 Dest per Acre\", '2019 Dest per Acre', 'acres']]\n",
    "mic_trips_cols['Percent Region Area']= mic_trips_cols['acres']/total_acres_region\n",
    "mic_trips_cols['Percent MIC Area']= mic_trips_cols['acres']/total_acres_mics    "
   ]
  },
  {
   "cell_type": "code",
   "execution_count": null,
   "id": "5e523fb8",
   "metadata": {},
   "outputs": [
    {
     "ename": "",
     "evalue": "",
     "output_type": "error",
     "traceback": [
      "\u001b[1;31mFailed to start the Kernel. \n",
      "\u001b[1;31mUnable to start Kernel 'Anaconda3 (Python 3.9.12)' due to a timeout waiting for the ports to get used. \n",
      "\u001b[1;31mView Jupyter <a href='command:jupyter.viewOutput'>log</a> for further details."
     ]
    }
   ],
   "source": [
    "                     \n",
    "regional_trips_acres=pd.DataFrame([['All Regional', total_d_2015/total_acres_region, total_d/total_acres_region, total_acres_region, 1, 0]], \n",
    "                                  columns=['MIC Name', '2015 Dest per Acre', '2019 Dest per Acre', 'acres', 'Percent Region Area', 'Percent MIC Area'])\n",
    "\n",
    "mic_trips_acres=pd.DataFrame([['All MICs', mic_trips_sum_2015/total_acres_mics, mic_trips_sum_2019/total_acres_mics,total_acres_mics, total_acres_mics/total_acres_region, 1]], \n",
    "                                  columns=['MIC Name', '2015 Dest per Acre', '2019 Dest per Acre', 'acres', 'Percent Region Area', 'Percent MIC Area'])\n",
    "\n",
    "\n",
    "\n",
    "mic_all_trips_acres=pd.concat([mic_trips_cols, regional_trips_acres, mic_trips_acres])\n",
    "\n",
    "mic_all_trips_acres.to_csv('C:/GitHub/data-science/inrix/mic_trips_acres.csv')\n"
   ]
  },
  {
   "cell_type": "code",
   "execution_count": null,
   "id": "b9536e6b",
   "metadata": {},
   "outputs": [
    {
     "ename": "",
     "evalue": "",
     "output_type": "error",
     "traceback": [
      "\u001b[1;31mFailed to start the Kernel. \n",
      "\u001b[1;31mUnable to start Kernel 'Anaconda3 (Python 3.9.12)' due to a timeout waiting for the ports to get used. \n",
      "\u001b[1;31mView Jupyter <a href='command:jupyter.viewOutput'>log</a> for further details."
     ]
    }
   ],
   "source": [
    "d_hex_count=pd.merge(hex_trips_d, hex_map, on=['GRID_ID'])\n",
    "\n",
    "d_by_hex_count = gpd.GeoDataFrame(d_hex_count, crs=\"EPSG:4326\", geometry='geometry')"
   ]
  },
  {
   "cell_type": "code",
   "execution_count": null,
   "id": "golden-increase",
   "metadata": {},
   "outputs": [
    {
     "ename": "",
     "evalue": "",
     "output_type": "error",
     "traceback": [
      "\u001b[1;31mFailed to start the Kernel. \n",
      "\u001b[1;31mUnable to start Kernel 'Anaconda3 (Python 3.9.12)' due to a timeout waiting for the ports to get used. \n",
      "\u001b[1;31mView Jupyter <a href='command:jupyter.viewOutput'>log</a> for further details."
     ]
    }
   ],
   "source": [
    "d_by_tract_count = pd.merge(tract_trips_d, tracts,on=[\"geoid10\"])\n",
    "o_by_tract_count = pd.merge(tract_trips_o, tracts,on=[\"geoid10\"])\n",
    "\n",
    "d_by_tract_count_2015 = pd.merge(tract_trips_d_2015, tracts,on=[\"geoid10\"])\n",
    "o_by_tract_count_2015 = pd.merge(tract_trips_o_2015, tracts,on=[\"geoid10\"])"
   ]
  },
  {
   "cell_type": "code",
   "execution_count": null,
   "id": "arranged-personal",
   "metadata": {},
   "outputs": [
    {
     "ename": "",
     "evalue": "",
     "output_type": "error",
     "traceback": [
      "\u001b[1;31mFailed to start the Kernel. \n",
      "\u001b[1;31mUnable to start Kernel 'Anaconda3 (Python 3.9.12)' due to a timeout waiting for the ports to get used. \n",
      "\u001b[1;31mView Jupyter <a href='command:jupyter.viewOutput'>log</a> for further details."
     ]
    }
   ],
   "source": [
    "d_by_uc_count = pd.merge(uc_trips_d, urban_centers,on=[\"name\"])\n",
    "o_by_uc_count = pd.merge(uc_trips_o, urban_centers,on=[\"name\"])"
   ]
  },
  {
   "cell_type": "code",
   "execution_count": null,
   "id": "organizational-thompson",
   "metadata": {},
   "outputs": [
    {
     "ename": "",
     "evalue": "",
     "output_type": "error",
     "traceback": [
      "\u001b[1;31mFailed to start the Kernel. \n",
      "\u001b[1;31mUnable to start Kernel 'Anaconda3 (Python 3.9.12)' due to a timeout waiting for the ports to get used. \n",
      "\u001b[1;31mView Jupyter <a href='command:jupyter.viewOutput'>log</a> for further details."
     ]
    }
   ],
   "source": [
    "d_by_taz_count = pd.merge(taz_trips_d, taz,on=[\"taz\"])\n",
    "o_by_taz_count = pd.merge(taz_trips_o, taz,on=[\"taz\"])"
   ]
  },
  {
   "cell_type": "code",
   "execution_count": null,
   "id": "inappropriate-chancellor",
   "metadata": {},
   "outputs": [
    {
     "ename": "",
     "evalue": "",
     "output_type": "error",
     "traceback": [
      "\u001b[1;31mFailed to start the Kernel. \n",
      "\u001b[1;31mUnable to start Kernel 'Anaconda3 (Python 3.9.12)' due to a timeout waiting for the ports to get used. \n",
      "\u001b[1;31mView Jupyter <a href='command:jupyter.viewOutput'>log</a> for further details."
     ]
    }
   ],
   "source": [
    "d_by_taz_count_weekend = pd.merge(taz_trips_d_weekday, taz,on=[\"taz\"])"
   ]
  },
  {
   "cell_type": "code",
   "execution_count": null,
   "id": "graduate-assessment",
   "metadata": {},
   "outputs": [
    {
     "ename": "",
     "evalue": "",
     "output_type": "error",
     "traceback": [
      "\u001b[1;31mFailed to start the Kernel. \n",
      "\u001b[1;31mUnable to start Kernel 'Anaconda3 (Python 3.9.12)' due to a timeout waiting for the ports to get used. \n",
      "\u001b[1;31mView Jupyter <a href='command:jupyter.viewOutput'>log</a> for further details."
     ]
    }
   ],
   "source": [
    "d_by_tract_count = gpd.GeoDataFrame(d_by_tract_count, crs=\"EPSG:4326\", geometry='geometry')\n",
    "o_by_tract_count = gpd.GeoDataFrame(o_by_tract_count, crs=\"EPSG:4326\", geometry='geometry')\n",
    "\n",
    "d_by_tract_count_2015 = gpd.GeoDataFrame(d_by_tract_count_2015, crs=\"EPSG:4326\", geometry='geometry')\n",
    "o_by_tract_count_2015 = gpd.GeoDataFrame(o_by_tract_count_2015, crs=\"EPSG:4326\", geometry='geometry')\n",
    "\n",
    "d_by_uc_count = gpd.GeoDataFrame(d_by_uc_count, crs=\"EPSG:4326\", geometry='geometry')\n",
    "o_by_uc_count = gpd.GeoDataFrame(o_by_uc_count, crs=\"EPSG:4326\", geometry='geometry')\n",
    "\n",
    "d_by_taz_count = gpd.GeoDataFrame(d_by_taz_count, crs=\"EPSG:4326\", geometry='geometry')\n",
    "o_by_taz_count = gpd.GeoDataFrame(o_by_taz_count, crs=\"EPSG:4326\", geometry='geometry')"
   ]
  },
  {
   "cell_type": "code",
   "execution_count": null,
   "id": "prompt-theater",
   "metadata": {},
   "outputs": [
    {
     "ename": "",
     "evalue": "",
     "output_type": "error",
     "traceback": [
      "\u001b[1;31mFailed to start the Kernel. \n",
      "\u001b[1;31mUnable to start Kernel 'Anaconda3 (Python 3.9.12)' due to a timeout waiting for the ports to get used. \n",
      "\u001b[1;31mView Jupyter <a href='command:jupyter.viewOutput'>log</a> for further details."
     ]
    }
   ],
   "source": [
    "d_by_taz_count = gpd.GeoDataFrame(d_by_taz_count, crs=\"EPSG:4326\", geometry='geometry')\n",
    "o_by_taz_count = gpd.GeoDataFrame(o_by_taz_count, crs=\"EPSG:4326\", geometry='geometry')"
   ]
  },
  {
   "cell_type": "code",
   "execution_count": null,
   "id": "7e579bc5",
   "metadata": {},
   "outputs": [
    {
     "ename": "",
     "evalue": "",
     "output_type": "error",
     "traceback": [
      "\u001b[1;31mFailed to start the Kernel. \n",
      "\u001b[1;31mUnable to start Kernel 'Anaconda3 (Python 3.9.12)' due to a timeout waiting for the ports to get used. \n",
      "\u001b[1;31mView Jupyter <a href='command:jupyter.viewOutput'>log</a> for further details."
     ]
    }
   ],
   "source": [
    "hex_trips_d.to_csv('C:/GitHub/data-science/inrix/truck_trips_by_hex_id.csv')\n"
   ]
  },
  {
   "cell_type": "code",
   "execution_count": null,
   "id": "leading-audience",
   "metadata": {},
   "outputs": [
    {
     "ename": "",
     "evalue": "",
     "output_type": "error",
     "traceback": [
      "\u001b[1;31mFailed to start the Kernel. \n",
      "\u001b[1;31mUnable to start Kernel 'Anaconda3 (Python 3.9.12)' due to a timeout waiting for the ports to get used. \n",
      "\u001b[1;31mView Jupyter <a href='command:jupyter.viewOutput'>log</a> for further details."
     ]
    }
   ],
   "source": [
    "d_by_taz_count_weekday = gpd.GeoDataFrame(d_by_taz_count_weekend, crs=\"EPSG:4326\", geometry='geometry')"
   ]
  },
  {
   "cell_type": "markdown",
   "id": "cordless-steering",
   "metadata": {},
   "source": [
    "### Truck Trips by Census Tracts"
   ]
  },
  {
   "cell_type": "markdown",
   "id": "reasonable-conspiracy",
   "metadata": {},
   "source": [
    "The truck trips origins and destinations are concentrated in areas with industrial activity such as:\n",
    "\n",
    "Kent Freight Valley (25,600 - 53,000 trips in May 2019)   \n",
    "North of Puyallup (40,300 trips in May 2019)   \n",
    "Port of Tacoma (19,600 - 30,500 trips in May 2019)   \n",
    "Port of Seattle (28,400 trips in May 2019)   \n",
    "Auburn (23,200 trips in May 2019)   \n",
    "SeaTac Airport (16,100 trips in May 2019)   \n",
    "\n",
    "2015 data shows similar areas with the high freight trips volume."
   ]
  },
  {
   "cell_type": "code",
   "execution_count": null,
   "id": "shaped-wellington",
   "metadata": {},
   "outputs": [
    {
     "ename": "",
     "evalue": "",
     "output_type": "error",
     "traceback": [
      "\u001b[1;31mFailed to start the Kernel. \n",
      "\u001b[1;31mUnable to start Kernel 'Anaconda3 (Python 3.9.12)' due to a timeout waiting for the ports to get used. \n",
      "\u001b[1;31mView Jupyter <a href='command:jupyter.viewOutput'>log</a> for further details."
     ]
    }
   ],
   "source": [
    "geosource = GeoJSONDataSource(geojson = d_by_hex_count.to_crs(3857).to_json())\n",
    "output_file(\"C:/GitHub/data-science/inrix/hex_destinations.html\")\n",
    "output_notebook()\n",
    "# Define color palettes\n",
    "tile_provider = get_provider(Vendors.STAMEN_TONER)\n",
    "#tile_provider = get_provider(Vendors.OSM)\n",
    "palette = brewer['BuPu'][9]\n",
    "palette = palette[::-1] # reverse order of colors so higher values have darker colors\n",
    "# Instantiate LinearColorMapper that linearly maps numbers in a range, into a sequence of colors.\n",
    "color_mapper = LinearColorMapper(palette = palette, low = 0, high = 4000)\n",
    "# Define custom tick labels for color bar.\n",
    "tick_labels = {'0': '0', '50': '50',\n",
    " '100':'100', '500':'500', '4000':'4000'}\n",
    "# Create color bar.\n",
    "color_bar = ColorBar(color_mapper = color_mapper, \n",
    "                     label_standoff = 8,\n",
    "                     width =400, height = 20,\n",
    "                     border_line_color = None,\n",
    "                     location = (0,0), \n",
    "                     orientation = 'horizontal',\n",
    "                     major_label_overrides = tick_labels)\n",
    "# Create figure object.\n",
    "p = figure(title = 'Truck Destinations, May 2019', \n",
    "           plot_height = 600, plot_width =600, \n",
    "           toolbar_location = 'below',\n",
    "           tools = 'pan, wheel_zoom, box_zoom, reset',\n",
    "           xrange=(-13580000, -13660000), yrange=(5980000, 6120000) )\n",
    "p.xgrid.grid_line_color = None\n",
    "p.ygrid.grid_line_color = None\n",
    "# Add patch renderer to figure.\n",
    "states = p.patches('xs','ys', source = geosource,fill_alpha=0.6,\n",
    "                   fill_color = {'field':'count',\n",
    "                                 'transform' : color_mapper},\n",
    "                   line_color = 'gray', \n",
    "                   line_width = 0.01)\n",
    "# Create hover tool\n",
    "p.add_tools(HoverTool(renderers = [states],\n",
    "                     tooltips = [('GRID_ID','@GRID_ID'),\n",
    "                               ('count', '@count')]))\n",
    "# Specify layout\n",
    "p.add_layout(color_bar, 'below')\n",
    "p.add_tile(tile_provider)\n",
    "show(p)"
   ]
  },
  {
   "cell_type": "markdown",
   "id": "intimate-editing",
   "metadata": {},
   "source": [
    "## Truck types Destinations by TAZ - Heavy"
   ]
  },
  {
   "cell_type": "markdown",
   "id": "pleased-sherman",
   "metadata": {},
   "source": [
    "When we grouped heavy truck trips by TAZs, it looks like that 75% of TAZs are getting up to 28.5 trips per month or less than 1 trip per day. While some TAZs are getting up to 13,800 trips per month or about 443 trips per day. That means that the heavy truck trips are pretty concentrated to specific TAZs."
   ]
  },
  {
   "cell_type": "markdown",
   "id": "controlled-reading",
   "metadata": {},
   "source": [
    "Heavy truck trips are concentrated on the East (along I-90) and South of the PSRC Region. The \"hot spots\" include:\n",
    "\n",
    "North of Sumner (13,800 heavy truck trips)   \n",
    "Port of Seattle (6,500 heavy truck trips)   \n",
    "North Kent (4,400 heavy truck trips)   \n",
    "North Bend (4,300 heavy truck trips)   "
   ]
  },
  {
   "cell_type": "code",
   "execution_count": null,
   "id": "fatty-shark",
   "metadata": {},
   "outputs": [
    {
     "ename": "",
     "evalue": "",
     "output_type": "error",
     "traceback": [
      "\u001b[1;31mFailed to start the Kernel. \n",
      "\u001b[1;31mUnable to start Kernel 'Anaconda3 (Python 3.9.12)' due to a timeout waiting for the ports to get used. \n",
      "\u001b[1;31mView Jupyter <a href='command:jupyter.viewOutput'>log</a> for further details."
     ]
    }
   ],
   "source": []
  },
  {
   "cell_type": "markdown",
   "id": "charming-reducing",
   "metadata": {},
   "source": [
    "## truck types Destinations by TAZ - Medium Trucks "
   ]
  },
  {
   "cell_type": "markdown",
   "id": "extensive-novelty",
   "metadata": {},
   "source": [
    "Medium truck trips are more widely distributed across the PSRC region comparing with heavy truck trips. Some of the biggest hot spots are:\n",
    "\n",
    "SeaTac airport (15,000 medium truck trips)   \n",
    "Kent Freight Valley   \n",
    "Auburn, North of Puyallup   \n",
    "Port of Tacoma and Port of Seattle   "
   ]
  },
  {
   "cell_type": "markdown",
   "id": "ideal-reducing",
   "metadata": {},
   "source": [
    "## Freight trips Origins/Destinations per capita"
   ]
  },
  {
   "cell_type": "code",
   "execution_count": null,
   "id": "seventh-lawsuit",
   "metadata": {},
   "outputs": [
    {
     "ename": "",
     "evalue": "",
     "output_type": "error",
     "traceback": [
      "\u001b[1;31mFailed to start the Kernel. \n",
      "\u001b[1;31mUnable to start Kernel 'Anaconda3 (Python 3.9.12)' due to a timeout waiting for the ports to get used. \n",
      "\u001b[1;31mView Jupyter <a href='command:jupyter.viewOutput'>log</a> for further details."
     ]
    }
   ],
   "source": []
  }
 ],
 "metadata": {
  "kernelspec": {
   "display_name": "Python 3",
   "language": "python",
   "name": "python3"
  },
  "language_info": {
   "codemirror_mode": {
    "name": "ipython",
    "version": 3
   },
   "file_extension": ".py",
   "mimetype": "text/x-python",
   "name": "python",
   "nbconvert_exporter": "python",
   "pygments_lexer": "ipython3",
   "version": "3.10.9"
  },
  "toc": {
   "base_numbering": 1,
   "nav_menu": {},
   "number_sections": true,
   "sideBar": true,
   "skip_h1_title": false,
   "title_cell": "Table of Contents",
   "title_sidebar": "Contents",
   "toc_cell": false,
   "toc_position": {
    "height": "calc(100% - 180px)",
    "left": "10px",
    "top": "150px",
    "width": "165px"
   },
   "toc_section_display": true,
   "toc_window_display": false
  },
  "varInspector": {
   "cols": {
    "lenName": 16,
    "lenType": 16,
    "lenVar": 40
   },
   "kernels_config": {
    "python": {
     "delete_cmd_postfix": "",
     "delete_cmd_prefix": "del ",
     "library": "var_list.py",
     "varRefreshCmd": "print(var_dic_list())"
    },
    "r": {
     "delete_cmd_postfix": ") ",
     "delete_cmd_prefix": "rm(",
     "library": "var_list.r",
     "varRefreshCmd": "cat(var_dic_list()) "
    }
   },
   "types_to_exclude": [
    "module",
    "function",
    "builtin_function_or_method",
    "instance",
    "_Feature"
   ],
   "window_display": false
  }
 },
 "nbformat": 4,
 "nbformat_minor": 5
}
